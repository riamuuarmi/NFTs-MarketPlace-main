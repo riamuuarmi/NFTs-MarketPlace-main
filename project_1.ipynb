{
  "nbformat": 4,
  "nbformat_minor": 0,
  "metadata": {
    "colab": {
      "provenance": [],
      "authorship_tag": "ABX9TyOUcCu+Hs6UsjWDt86kYN9d",
      "include_colab_link": true
    },
    "kernelspec": {
      "name": "python3",
      "display_name": "Python 3"
    },
    "language_info": {
      "name": "python"
    }
  },
  "cells": [
    {
      "cell_type": "markdown",
      "metadata": {
        "id": "view-in-github",
        "colab_type": "text"
      },
      "source": [
        "<a href=\"https://colab.research.google.com/github/riamuuarmi/NFTs-MarketPlace-main/blob/main/project_1.ipynb\" target=\"_parent\"><img src=\"https://colab.research.google.com/assets/colab-badge.svg\" alt=\"Open In Colab\"/></a>"
      ]
    },
    {
      "cell_type": "code",
      "execution_count": null,
      "metadata": {
        "id": "w5SrYifpG7e6"
      },
      "outputs": [],
      "source": [
        "!pip install -U -q google-genai"
      ]
    },
    {
      "cell_type": "code",
      "source": [
        "from google.colab import userdata\n",
        "import os\n",
        "os.environ['GOOGLE_API_KEY'] = userdata.get('GOOGLE_API_KEY')"
      ],
      "metadata": {
        "id": "yvaYDxHzJFAh"
      },
      "execution_count": null,
      "outputs": []
    },
    {
      "cell_type": "code",
      "source": [
        "from google import genai"
      ],
      "metadata": {
        "id": "novBX09fH6ZB"
      },
      "execution_count": null,
      "outputs": []
    },
    {
      "cell_type": "code",
      "source": [
        "client = genai.Client()"
      ],
      "metadata": {
        "id": "hUId-j--H_jr"
      },
      "execution_count": null,
      "outputs": []
    },
    {
      "cell_type": "code",
      "source": [
        "MODEL:str = \"gemini-2.0-flash-exp\""
      ],
      "metadata": {
        "id": "4bxtp0g3IDoZ"
      },
      "execution_count": null,
      "outputs": []
    },
    {
      "cell_type": "code",
      "source": [
        "response = client.models.generate_content(\n",
        "    model = MODEL,\n",
        "    contents = \"how does AI work?\"\n",
        ")\n",
        "print(response.text)"
      ],
      "metadata": {
        "colab": {
          "base_uri": "https://localhost:8080/"
        },
        "id": "zOFRiNYSIGzK",
        "outputId": "c8d1446d-398b-461b-9873-1ccfd4a7e307"
      },
      "execution_count": null,
      "outputs": [
        {
          "output_type": "stream",
          "name": "stdout",
          "text": [
            "Okay, let's break down how AI works, but in a way that's hopefully clear and understandable. It's a big topic, so I'll try to avoid overly technical jargon.\n",
            "\n",
            "At its core, AI (Artificial Intelligence) is about creating machines that can perform tasks that typically require human intelligence. These tasks might include:\n",
            "\n",
            "*   **Learning:** Improving from experience\n",
            "*   **Problem-solving:** Finding solutions to new challenges\n",
            "*   **Decision-making:** Choosing actions based on data\n",
            "*   **Understanding language:** Comprehending and responding to human communication\n",
            "*   **Recognizing patterns:** Identifying trends and relationships in data\n",
            "*   **Visual perception:** \"Seeing\" and understanding images\n",
            "\n",
            "Here's a simplified breakdown of the core concepts:\n",
            "\n",
            "**1. Data is the Fuel:**\n",
            "\n",
            "*   AI relies heavily on data. The more data it has, the better it can learn and perform.\n",
            "*   This data can be anything: text, images, sounds, numbers, sensor readings, etc.\n",
            "*   Think of it like teaching a child: they learn from observing and interacting with the world. AI learns from the data you provide.\n",
            "\n",
            "**2. Machine Learning: The Learning Engine**\n",
            "\n",
            "*   Machine learning (ML) is a subset of AI and the most common way AI systems are trained.\n",
            "*   Instead of explicitly programming rules, ML algorithms learn from data. Here are some common ML approaches:\n",
            "    *   **Supervised Learning:** You provide the algorithm with labeled data (e.g., pictures of cats labeled \"cat\"). The algorithm learns to associate the features of a cat with the label \"cat\" and can then classify new, unseen pictures.\n",
            "    *   **Unsupervised Learning:** You provide the algorithm with unlabeled data. The algorithm tries to find patterns and structure on its own (e.g., grouping customers with similar purchasing behavior).\n",
            "    *   **Reinforcement Learning:** The algorithm learns through trial and error, receiving rewards or penalties for its actions. This is common in training robots or game-playing AI.\n",
            "\n",
            "**3. The Model: The Learned Representation**\n",
            "\n",
            "*   After training, an ML algorithm produces a \"model\".\n",
            "*   This model is essentially a mathematical representation of the patterns and relationships it has learned from the data.\n",
            "*   It's like a learned set of rules and formulas, but often much more complex.\n",
            "*   The model can then be used to make predictions or decisions on new, unseen data.\n",
            "\n",
            "**4. Algorithms: The Recipes for Learning**\n",
            "\n",
            "*   Machine learning uses various algorithms. Think of these as different recipes for learning. Some common ones include:\n",
            "    *   **Linear Regression:** Used for predicting numerical values (e.g., predicting house prices).\n",
            "    *   **Logistic Regression:** Used for classification (e.g., determining if an email is spam).\n",
            "    *   **Decision Trees:** Used for both classification and regression, making decisions based on a tree-like structure.\n",
            "    *   **Support Vector Machines (SVM):** Another classification algorithm.\n",
            "    *   **Neural Networks:** Inspired by the structure of the human brain, these are complex networks that are especially powerful for image recognition, language processing, and complex patterns.\n",
            "\n",
            "**5. Neural Networks and Deep Learning: The \"Deep\" Dive**\n",
            "\n",
            "*   **Neural Networks:** Consist of interconnected nodes (like neurons) organized in layers.\n",
            "*   **Deep Learning:** A subset of machine learning that uses very deep (many layers) neural networks.\n",
            "*   Deep learning is behind many recent breakthroughs in AI, such as image recognition, natural language processing, and generative AI.\n",
            "*   Deep neural networks learn increasingly complex features from the data, enabling them to understand and represent data in a very sophisticated way.\n",
            "\n",
            "**6. The AI Development Process (Simplified):**\n",
            "\n",
            "1.  **Data Collection:** Gather the necessary data.\n",
            "2.  **Data Preparation:** Clean, organize, and preprocess the data to make it usable.\n",
            "3.  **Algorithm Selection:** Choose the appropriate machine learning algorithm(s).\n",
            "4.  **Model Training:** Train the model using the prepared data.\n",
            "5.  **Model Evaluation:** Assess how well the model performs.\n",
            "6.  **Model Tuning:** Fine-tune the model's parameters to improve performance.\n",
            "7.  **Deployment:** Make the model available for use (e.g., in an app or web service).\n",
            "\n",
            "**Key Takeaways:**\n",
            "\n",
            "*   AI is not a single technology, but rather a broad field with many different approaches.\n",
            "*   Data is the most crucial resource for most AI systems.\n",
            "*   Machine learning allows AI systems to learn from data without explicit programming.\n",
            "*   Neural networks and deep learning are powerful tools for complex AI applications.\n",
            "*   AI development is an iterative process.\n",
            "\n",
            "**Important Note:** AI is still rapidly evolving. There's a lot of exciting research happening to push the boundaries of what AI can do. We are still a long way from creating Artificial General Intelligence (AGI) – AI that can match human intelligence across a wide range of tasks.\n",
            "\n",
            "Let me know if you'd like me to explain any of these concepts in more detail or if you have other questions!\n",
            "\n"
          ]
        }
      ]
    }
  ]
}